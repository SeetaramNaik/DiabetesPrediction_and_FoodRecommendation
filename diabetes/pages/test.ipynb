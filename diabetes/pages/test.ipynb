{
 "cells": [
  {
   "cell_type": "code",
   "execution_count": 3,
   "metadata": {},
   "outputs": [],
   "source": [
    "import pandas as pd\n",
    "foods_df = pd.read_csv('../../data/food_dataset.csv')"
   ]
  },
  {
   "cell_type": "code",
   "execution_count": 1,
   "metadata": {},
   "outputs": [
    {
     "name": "stdout",
     "output_type": "stream",
     "text": [
      "           a         b         c\n",
      "0  -0.141899 -0.854904 -0.414485\n",
      "1   0.615466  0.116445  0.453272\n",
      "2  -0.606127  1.640455  1.313639\n",
      "3   1.564612  1.795107 -0.309931\n",
      "4  -0.637688 -0.231821  1.634526\n",
      "5   0.649270 -1.681452 -0.114236\n",
      "6   2.498693  1.090429 -0.244858\n",
      "7  -0.870861 -1.510952 -0.399001\n",
      "8   0.043381 -1.126833 -0.574481\n",
      "9  -0.563393 -1.048265  1.882102\n",
      "10 -0.412450  0.646840  1.301703\n",
      "11  0.035666  0.763762 -2.311982\n",
      "12  1.764448  0.014601 -0.213038\n",
      "13 -0.587601 -0.553351  0.614120\n",
      "14 -0.125340  0.287604  0.155002\n",
      "15  0.699168 -0.533020 -2.108825\n",
      "16 -0.346463 -0.610794 -0.138799\n",
      "17 -0.788523  1.660980  0.134256\n",
      "18  0.258894  0.551096 -0.313240\n",
      "19  0.033907 -1.277114  0.681153\n"
     ]
    }
   ],
   "source": [
    "import pandas as pd\n",
    "import numpy as np\n",
    "\n",
    "chart_data = pd.DataFrame(\n",
    "    np.random.randn(20, 3),\n",
    "    columns=[\"a\", \"b\", \"c\"])\n",
    "\n",
    "print(chart_data)"
   ]
  },
  {
   "cell_type": "code",
   "execution_count": null,
   "metadata": {},
   "outputs": [],
   "source": []
  }
 ],
 "metadata": {
  "kernelspec": {
   "display_name": "Python 3",
   "language": "python",
   "name": "python3"
  },
  "language_info": {
   "codemirror_mode": {
    "name": "ipython",
    "version": 3
   },
   "file_extension": ".py",
   "mimetype": "text/x-python",
   "name": "python",
   "nbconvert_exporter": "python",
   "pygments_lexer": "ipython3",
   "version": "3.10.0"
  },
  "orig_nbformat": 4
 },
 "nbformat": 4,
 "nbformat_minor": 2
}
